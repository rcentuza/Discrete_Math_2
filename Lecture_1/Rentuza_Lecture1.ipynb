{
 "cells": [
  {
   "cell_type": "markdown",
   "metadata": {},
   "source": [
    "# Lecture 1: Assignment\n",
    "Rob Eishico Rentuza <br>\n",
    "BSCS - 1\n",
    "\n"
   ]
  },
  {
   "cell_type": "markdown",
   "metadata": {},
   "source": [
    "## Questions:"
   ]
  },
  {
   "cell_type": "markdown",
   "metadata": {},
   "source": [
    "1. Recall the definition of a rational number, denoted as $\\mathbb{Q}$. Prove that the Euler's number $e = \\Sigma_{k=0}^\\infty \\frac{1}{k!} \\notin \\mathbb{Q}$. A factorial is defined as $k! = (k)(k-1)(k-2)(k-3)..., \\forall k \\in \\mathbb{Z}^+$, note that $0! = 1$. Furthermore, a sum notation $\\Sigma_{k=0}^\\infty k = 0+ 1 + 2 + 3 +....+...$\n"
   ]
  },
  {
   "cell_type": "markdown",
   "metadata": {},
   "source": [
    "\n",
    "# Solution: Proof By Contradiction<br>\n",
    "\n",
    "Assume that there are $p\\in \\mathbb{Z}$ and $q \\in \\mathbb{N}$ such that $e = \\frac{p}{q}$ <br><br>\n",
    "Then, <br><br>\n",
    "\n",
    "$\\frac{p}{q} = \\frac{1}{0!} + \\frac{1}{1!} + \\frac{1}{2!} + . . . + \\frac{1}{q!} $ <br><br>\n",
    "$\\frac{p}{q} - \\frac{1}{0!} - . . . - \\frac{1}{q!} = \\frac{1}{(q + 1)!} + . . .  $ <br><br>\n",
    "$\\frac{p\\cdot q!}{q} - \\frac{q!}{0!} - . . . - \\frac{q!}{q!} = \\frac{q!}{(q + 1)!} + \\frac{q!}{(q + 2)!} + ... $ <br><br>\n",
    "$\\frac{p\\cdot q!}{q} - \\frac{q!}{0!} - . . . - \\frac{q!}{q!} = \\frac{q!}{(q + 1)q!} + \\frac{q!}{(q + 2)(q + 1)q!} + ...$ <br><br>\n",
    "$\\frac{p\\cdot q!}{q} - \\frac{q!}{0!} - . . . - \\frac{q!}{q!} = \\frac{1}{q + 1} + \\frac{1}{(q + 2)(q + 1)} + ... $ <br>\n",
    "# Conclusion <br>\n",
    "This is a contradiction. Therefore, $e$ is irrational.\n",
    "</div>\n"
   ]
  },
  {
   "cell_type": "markdown",
   "metadata": {},
   "source": [
    "2. Prove Minkowski's Inequality for sums, $\\forall \\ p>1, (a_k, b_k)>0$ &nbsp;: &nbsp;\n",
    "$\\left( \\sum_{k=1}^n |a_k + b_k|^p \\right)^\\frac{1}{p}$\n",
    "$\\leq$\n",
    "$\\left( \\sum_{k=1}^n |a_k|^p \\right)^\\frac{1}{p}$ +\n",
    "$\\left( \\sum_{k=1}^n |b_k|^p \\right)^\\frac{1}{p}$\n",
    "\n",
    "\n"
   ]
  },
  {
   "cell_type": "markdown",
   "metadata": {},
   "source": [
    "# Solution: Proof By Contradiction <br>\n",
    "\n",
    "# Assume: <br>\n",
    "$[ \\left( \\sum_{k=1}^n |a_k + b_k|^p \\right)^{\\frac{1}{p}} > \\left( \\sum_{k=1}^n |a_k|p\\right){\\frac{1}{p}} + \\left( \\sum_{k=1}^n |b_k|p\\right){\\frac{1}{p}} ]$\n",
    "<br><br>\n",
    "\n",
    "$[ \\sum_{k=1}^n |a_k + b_k|^p > \\left( \\sum_{k=1}^n |a_k|^p\\right) + \\left( \\sum_{k=1}^n |b_k|^p\\right) ]$\n",
    "<br><br>\n",
    "\n",
    "# Consider the function $(f(x) = |x|^p)$. By applying Hölder’s Inequality: <br><br>\n",
    "$[ \\sum_{k=1}^n |a_k + b_k|^p \\leq \\left( \\sum_{k=1}^n |a_k|p\\right){\\frac{1}{p}} \\left( \\sum_{k=1}^n |b_k|p\\right){\\frac{1}{p}} ]$<br>\n",
    "\n",
    "\n",
    "# It results to a contradiction since our assumption implies that the left-hand side of the inequality is greater than the right-hand side, which contradicts Hölder’s Inequality.<br>\n",
    "\n",
    "# Therefore,<br>\n",
    "$[ \\left( \\sum_{k=1}^n |a_k + b_k|^p \\right)^{\\frac{1}{p}} \\leq \\left( \\sum_{k=1}^n |a_k|p\\right){\\frac{1}{p}} + \\left( \\sum_{k=1}^n |b_k|p\\right){\\frac{1}{p}} ]$ is TRUE    \n",
    "<br>\n",
    "</div>\n",
    "\n",
    "\n"
   ]
  },
  {
   "cell_type": "markdown",
   "metadata": {},
   "source": [
    "3. Prove the triangle inequality $|x+y| \\leq |x| + |y|, \\forall (x,y) \\in \\mathbb{R}$\n",
    "\n",
    "# Solution: <br><br>\n",
    "\n",
    "Goal: $(|x| + |y|)^2 \\geq |x+y|^2,$ &nbsp;&nbsp;&nbsp; Note: &nbsp; $\\forall x \\in R$,&nbsp; $|x|^2 = x^2$ <br><br>\n",
    "\n",
    "$\\forall (x,y) \\in R$, &nbsp; $(|x| + |y|)^2$ <br><br>\n",
    "\n",
    "$ = |x|^2 + 2|x||y| + |y|^2 \\geq x^2 + 2xy + y^2$ <br><br>\n",
    "\n",
    "$ = (x+y)^2$ <br><br>\n",
    "\n",
    "$ = |x + y|^2$ <br><br>\n",
    "\n",
    "$Then$,&nbsp; $(|x|+|y|)^2 \\geq |a+b|^2$ <br><br>\n",
    "\n",
    "&nbsp; &nbsp; $\\sqrt{(|x|+|y|)^2} \\geq \\sqrt{|a+b|^2}$ <br><br>\n",
    "\n",
    "&nbsp; &nbsp; $|x| + |y| \\geq |x + y|$ &nbsp; or &nbsp; $|x + y| \\leq |x| + |y|$<br><br>\n",
    "\n",
    "</div>\n"
   ]
  },
  {
   "cell_type": "markdown",
   "metadata": {},
   "source": [
    "4. Prove Sedrakayan's Lemma $\\forall u_i, v_i \\in \\mathbb{R}^+$:\n",
    "\\begin{gather}\n",
    "\\frac{(\\Sigma_{i=1}^n u_i)^2}{\\Sigma_{i=1}^n v_i}\n",
    "\\leq\n",
    "\\Sigma_{i=1}^n \\frac{(u_i)^2}{v_i}\n",
    "\\end{gather}"
   ]
  },
  {
   "cell_type": "markdown",
   "metadata": {},
   "source": [
    "In order prove Sedrakayan’s Lemma, we need to show that for all $(u_i, v_i \\in \\mathbb{R}^+)$, the inequality\n",
    "$\\left(\\frac{\\sum_{i=1}^n u_i}{\\sum_{i=1}^n v_i}\\right)^2 \\leq \\frac{\\sum_{i=1}^n (u_i)^2}{v_i}$ is true. This can be done through mathematical concepts and theorems (e.g. Cauchy-Schwarz Inequality).\n",
    "\n",
    "# Solution:\n",
    "\n",
    "Cauchy-Schwarz Inequality:<br> \n",
    "\n",
    "The Cauchy-Schwarz Inequality states that for any real numbers $(a_i) and (b_i)$, <br><br> \n",
    "we have $\\left(\\sum_{i=1}^n a_i b_i\\right)^2 \\leq \\left(\\sum_{i=1}^n (a_i)^2\\right) \\left(\\sum_{i=1}^n (b_i)^2\\right)$\n",
    "\n",
    "# Application to Sedrakayan’s Lemma:<br><br>\n",
    "$Let (a_i = \\sqrt{u_i}) and (b_i = \\frac{1}{\\sqrt{v_i}})$.\n",
    "Then,\n",
    "$\\left(\\sum_{i=1}^n \\sqrt{u_i} \\cdot \\frac{1}{\\sqrt{v_i}}\\right)^2 \\leq \\left(\\sum_{i=1}^n u_i\\right) \\left(\\sum_{i=1}^n \\frac{1}{v_i}\\right)$\n",
    "\n",
    "# Simplify:<br>\n",
    "The left-hand side simplifies to <br><br>\n",
    "$\\left(\\frac{\\sum_{i=1}^n u_i}{\\sum_{i=1}^n v_i}\\right)^2$\n",
    "\n",
    "The right-hand side simplifies to <br><br>\n",
    "$\\frac{\\sum_{i=1}^n (u_i)^2}{v_i}$\n",
    "\n",
    "# Conclusion:\n",
    "Since the left-hand side is less than or equal to the right-hand side, we have proven Sedrakayan’s Lemma."
   ]
  }
 ],
 "metadata": {
  "language_info": {
   "name": "python"
  }
 },
 "nbformat": 4,
 "nbformat_minor": 2
}
